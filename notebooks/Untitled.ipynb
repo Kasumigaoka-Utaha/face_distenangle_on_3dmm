{
 "cells": [
  {
   "cell_type": "code",
   "execution_count": 1,
   "id": "7166b872",
   "metadata": {},
   "outputs": [],
   "source": [
    "import sys, os"
   ]
  },
  {
   "cell_type": "code",
   "execution_count": 90,
   "id": "22a48256",
   "metadata": {},
   "outputs": [],
   "source": [
    "import matplotlib.pyplot as plt\n",
    "import torch\n",
    "import numpy as np\n",
    "import cv2\n",
    "import json"
   ]
  },
  {
   "cell_type": "code",
   "execution_count": 2,
   "id": "bd6119bf",
   "metadata": {},
   "outputs": [],
   "source": [
    "sys.path.append('../')"
   ]
  },
  {
   "cell_type": "code",
   "execution_count": 28,
   "id": "e7bbd920",
   "metadata": {},
   "outputs": [],
   "source": [
    "from face_model import Face_3DMM\n",
    "from util import *"
   ]
  },
  {
   "cell_type": "code",
   "execution_count": 4,
   "id": "eb012719",
   "metadata": {},
   "outputs": [],
   "source": [
    "id_dim, exp_dim, tex_dim, point_num = 100, 79, 100, 34650\n",
    "face_proj = Face_3DMM('../3DMM',id_dim, exp_dim, tex_dim, point_num)"
   ]
  },
  {
   "cell_type": "code",
   "execution_count": 20,
   "id": "ff7d0dcb",
   "metadata": {},
   "outputs": [],
   "source": [
    "lands_info = np.loadtxt(os.path.join(\n",
    "    '../3DMM', 'lands_info.txt'), dtype=np.int32)\n",
    "lands_info = torch.as_tensor(lands_info).cuda()"
   ]
  },
  {
   "cell_type": "code",
   "execution_count": 113,
   "id": "304f8132",
   "metadata": {},
   "outputs": [],
   "source": [
    "w = 450\n",
    "h = 450\n",
    "id_para = torch.zeros(1, id_dim).cuda()\n",
    "exp_para = torch.zeros(1, exp_dim).cuda()\n",
    "focal_length = torch.ones(1, ).cuda().float() * 15\n",
    "trans = torch.zeros(1, 3).cuda().float()\n",
    "euler_angle = torch.zeros(1, 3).cuda().float()\n",
    "cxy = torch.tensor((w/2.0, h/2.0), dtype=torch.float).cuda()\n",
    "\n",
    "with open('../face_3dmm_params/obama/0022.json') as f:\n",
    "    exp_para_load = json.load(f)\n",
    "exp_para = torch.Tensor(exp_para_load['exp'])\n",
    "exp_para = exp_para.unsqueeze(0).cuda()\n",
    "\n",
    "geometry = face_proj.forward_geo_sub(\n",
    "            id_para, exp_para, lands_info[-51:].long())\n",
    "proj_geo = forward_transform(\n",
    "            geometry, euler_angle, trans, focal_length, cxy)"
   ]
  },
  {
   "cell_type": "code",
   "execution_count": 118,
   "id": "62b6f02e",
   "metadata": {},
   "outputs": [
    {
     "data": {
      "text/plain": [
       "dict_keys(['exp', 'euler', 'trans'])"
      ]
     },
     "execution_count": 118,
     "metadata": {},
     "output_type": "execute_result"
    }
   ],
   "source": [
    "exp_para_load.keys()"
   ]
  },
  {
   "cell_type": "code",
   "execution_count": null,
   "id": "e9f05178",
   "metadata": {},
   "outputs": [],
   "source": [
    "torch.Tensor(exp_para_load['exp'])"
   ]
  },
  {
   "cell_type": "code",
   "execution_count": 114,
   "id": "147cf78e",
   "metadata": {},
   "outputs": [
    {
     "name": "stdout",
     "output_type": "stream",
     "text": [
      "tensor(315.8766, device='cuda:0')\n",
      "tensor(130.6144, device='cuda:0')\n"
     ]
    }
   ],
   "source": [
    "print(proj_geo[:, :, :2].max())\n",
    "print(proj_geo[:, :, :2].min())"
   ]
  },
  {
   "cell_type": "code",
   "execution_count": 115,
   "id": "4bd83344",
   "metadata": {},
   "outputs": [],
   "source": [
    "landmarks = proj_geo.squeeze().cpu().numpy()\n",
    "canvas = np.zeros((450, 450, 3), dtype=np.uint8)\n",
    "for i in range(landmarks.shape[0]):\n",
    "    cv2.circle(canvas, (int(landmarks[i, 0]), 450 - int(landmarks[i, 1])), radius=2, color=(255, 0, 0), thickness=2)"
   ]
  },
  {
   "cell_type": "code",
   "execution_count": 116,
   "id": "27ebc744",
   "metadata": {},
   "outputs": [
    {
     "data": {
      "text/plain": [
       "<matplotlib.image.AxesImage at 0x7fa3ec14c8d0>"
      ]
     },
     "execution_count": 116,
     "metadata": {},
     "output_type": "execute_result"
    },
    {
     "data": {
      "image/png": "[encoded data removed]",
      "text/plain": [
       "<Figure size 432x288 with 1 Axes>"
      ]
     },
     "metadata": {
      "needs_background": "light"
     },
     "output_type": "display_data"
    }
   ],
   "source": [
    "plt.imshow(canvas)"
   ]
  },
  {
   "cell_type": "code",
   "execution_count": 27,
   "id": "16616bcc",
   "metadata": {},
   "outputs": [
    {
     "data": {
      "text/plain": [
       "tensor([[-5.4063e+01,  4.5986e+01,  9.0701e+00],\n",
       "        [-4.7290e+01,  5.0234e+01,  1.6517e+01],\n",
       "        [-3.8326e+01,  5.2562e+01,  2.2876e+01],\n",
       "        [-2.6574e+01,  5.1430e+01,  2.8598e+01],\n",
       "        [-1.4590e+01,  4.7781e+01,  3.0956e+01],\n",
       "        [ 1.4202e+01,  4.7971e+01,  3.0921e+01],\n",
       "        [ 2.6195e+01,  5.1724e+01,  2.8471e+01],\n",
       "        [ 3.8037e+01,  5.2929e+01,  2.2640e+01],\n",
       "        [ 4.7986e+01,  5.0319e+01,  1.5610e+01],\n",
       "        [ 5.4008e+01,  4.6289e+01,  8.9132e+00],\n",
       "        [ 7.7692e-02,  3.2728e+01,  3.2014e+01],\n",
       "        [ 8.7069e-02,  2.1785e+01,  3.9785e+01],\n",
       "        [ 1.9220e-01,  1.0270e+01,  4.8410e+01],\n",
       "        [ 2.2327e-01,  2.8703e-01,  5.4387e+01],\n",
       "        [-1.1410e+01, -1.4234e+01,  3.1614e+01],\n",
       "        [-6.1606e+00, -1.4300e+01,  3.6888e+01],\n",
       "        [ 4.6248e-02, -1.4563e+01,  3.8953e+01],\n",
       "        [ 6.1906e+00, -1.4306e+01,  3.6882e+01],\n",
       "        [ 1.1341e+01, -1.4149e+01,  3.1565e+01],\n",
       "        [-4.4414e+01,  2.9456e+01,  8.8531e+00],\n",
       "        [-3.5384e+01,  3.3585e+01,  1.7306e+01],\n",
       "        [-2.6860e+01,  3.4097e+01,  1.8190e+01],\n",
       "        [-1.6780e+01,  2.8698e+01,  1.5238e+01],\n",
       "        [-2.6480e+01,  2.5731e+01,  1.6872e+01],\n",
       "        [-3.5475e+01,  2.5577e+01,  1.5148e+01],\n",
       "        [ 1.6379e+01,  2.8157e+01,  1.4955e+01],\n",
       "        [ 2.6311e+01,  3.4181e+01,  1.7814e+01],\n",
       "        [ 3.4972e+01,  3.3563e+01,  1.7034e+01],\n",
       "        [ 4.4582e+01,  2.9589e+01,  9.1680e+00],\n",
       "        [ 3.5213e+01,  2.5635e+01,  1.5101e+01]], device='cuda:0')"
      ]
     },
     "execution_count": 27,
     "metadata": {},
     "output_type": "execute_result"
    }
   ],
   "source": [
    "geometry[0, :30]"
   ]
  }
 ],
 "metadata": {
  "kernelspec": {
   "display_name": "Python 3",
   "language": "python",
   "name": "python3"
  },
  "language_info": {
   "codemirror_mode": {
    "name": "ipython",
    "version": 3
   },
   "file_extension": ".py",
   "mimetype": "text/x-python",
   "name": "python",
   "nbconvert_exporter": "python",
   "pygments_lexer": "ipython3",
   "version": "3.7.10"
  }
 },
 "nbformat": 4,
 "nbformat_minor": 5
}
