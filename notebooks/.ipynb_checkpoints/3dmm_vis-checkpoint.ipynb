{
 "cells": [
  {
   "cell_type": "code",
   "execution_count": 1,
   "id": "7b045c73",
   "metadata": {},
   "outputs": [],
   "source": [
    "import sys, os"
   ]
  },
  {
   "cell_type": "code",
   "execution_count": 2,
   "id": "7593f32d",
   "metadata": {},
   "outputs": [],
   "source": [
    "import matplotlib.pyplot as plt\n",
    "import torch\n",
    "import numpy as np\n",
    "import cv2\n",
    "import json"
   ]
  },
  {
   "cell_type": "code",
   "execution_count": 3,
   "id": "fd737a9f",
   "metadata": {},
   "outputs": [],
   "source": [
    "sys.path.append('../')"
   ]
  },
  {
   "cell_type": "code",
   "execution_count": 4,
   "id": "312a38c9",
   "metadata": {},
   "outputs": [],
   "source": [
    "from face_model import Face_3DMM\n",
    "from util import *"
   ]
  },
  {
   "cell_type": "code",
   "execution_count": 5,
   "id": "b91bef55",
   "metadata": {},
   "outputs": [],
   "source": [
    "id_dim, exp_dim, tex_dim, point_num = 100, 79, 100, 34650\n",
    "face_proj = Face_3DMM('../3DMM',id_dim, exp_dim, tex_dim, point_num)"
   ]
  },
  {
   "cell_type": "code",
   "execution_count": 6,
   "id": "a8b0e92f",
   "metadata": {},
   "outputs": [],
   "source": [
    "lands_info = np.loadtxt(os.path.join(\n",
    "    '../3DMM', 'lands_info.txt'), dtype=np.int32)\n",
    "lands_info = torch.as_tensor(lands_info).cuda()"
   ]
  },
  {
   "cell_type": "code",
   "execution_count": 72,
   "id": "459fb12f",
   "metadata": {},
   "outputs": [
    {
     "data": {
      "text/plain": [
       "<matplotlib.image.AxesImage at 0x7f61295d2c90>"
      ]
     },
     "execution_count": 72,
     "metadata": {},
     "output_type": "execute_result"
    },
    {
     "data": {
      "image/png": "[encoded data removed]",
      "text/plain": [
       "<Figure size 432x288 with 1 Axes>"
      ]
     },
     "metadata": {
      "needs_background": "light"
     },
     "output_type": "display_data"
    }
   ],
   "source": [
    "w = 450\n",
    "h = 450\n",
    "id_para = torch.zeros(1, id_dim).cuda()\n",
    "exp_para = torch.zeros(1, exp_dim).cuda()\n",
    "focal_length = torch.ones(1, ).cuda().float() * 15\n",
    "trans = torch.zeros(1, 3).cuda().float()\n",
    "euler_angle = torch.zeros(1, 3).cuda().float()\n",
    "cxy = torch.tensor((w/2.0, h/2.0), dtype=torch.float).cuda()\n",
    "\n",
    "with open('../face_3dmm_params/obama/0000.json') as f:\n",
    "    trans_para_load = json.load(f)\n",
    "with open('../face_3dmm_params/obama/0122.json') as f:\n",
    "    exp_para_load = json.load(f)\n",
    "with open('../face_3dmm_params/Mark_Zuck/static_params.json') as f:\n",
    "    static_para_load = json.load(f)\n",
    "\n",
    "focal_length = torch.Tensor(static_para_load['focal'])\n",
    "focal_length = focal_length.cuda()\n",
    "\n",
    "# id_para = torch.Tensor(static_para_load['id'])\n",
    "# id_para = id_para.cuda()\n",
    "\n",
    "# exp_para = torch.Tensor(exp_para_load['exp'])\n",
    "# exp_para = exp_para.unsqueeze(0).cuda()\n",
    "\n",
    "trans = torch.Tensor(trans_para_load['trans'])\n",
    "trans = trans.unsqueeze(0).cuda()\n",
    "\n",
    "# euler = torch.Tensor(exp_para_load['euler'])\n",
    "# euler = euler.unsqueeze(0).cuda()\n",
    "\n",
    "\n",
    "geometry = face_proj.forward_geo_sub(\n",
    "            id_para, exp_para, lands_info[-51:].long())\n",
    "proj_geo = forward_transform(\n",
    "            geometry, euler_angle, trans, focal_length, cxy)\n",
    "\n",
    "landmarks = proj_geo.squeeze().cpu().numpy()\n",
    "canvas = np.zeros((450, 450, 3), dtype=np.uint8)\n",
    "for i in range(landmarks.shape[0]):\n",
    "    cv2.circle(canvas, (int(landmarks[i, 0]), int(landmarks[i, 1])), radius=2, color=(255, 0, 0), thickness=2)\n",
    "plt.imshow(canvas)"
   ]
  },
  {
   "cell_type": "code",
   "execution_count": 75,
   "id": "b6ec8549",
   "metadata": {},
   "outputs": [],
   "source": [
    "w = 450\n",
    "h = 450\n",
    "id_para = torch.zeros(1, id_dim).cuda()\n",
    "exp_para = torch.zeros(1, exp_dim).cuda()\n",
    "focal_length = torch.ones(1, ).cuda().float() * 15\n",
    "trans = torch.zeros(1, 3).cuda().float()\n",
    "euler_angle = torch.zeros(1, 3).cuda().float()\n",
    "cxy = torch.tensor((w/2.0, h/2.0), dtype=torch.float).cuda()\n",
    "\n",
    "with open('../face_3dmm_params/obama/0000.json') as f:\n",
    "    trans_para_load = json.load(f)\n",
    "with open('../face_3dmm_params/Mark_Zuck/static_params.json') as f:\n",
    "    static_para_load = json.load(f)\n",
    "focal_length = torch.Tensor(static_para_load['focal'])\n",
    "focal_length = focal_length.cuda()\n",
    "\n",
    "# id_para = torch.Tensor(static_para_load['id'])\n",
    "# id_para = id_para.cuda()\n",
    "landmarks_collection = []\n",
    "for i in range(11000):\n",
    "    face_path = '../face_3dmm_params/obama/{:04d}.json'.format(i)\n",
    "    with open(face_path) as f:\n",
    "        exp_para_load = json.load(f)\n",
    "\n",
    "    exp_para = torch.Tensor(exp_para_load['exp'])\n",
    "    exp_para = exp_para.unsqueeze(0).cuda()\n",
    "\n",
    "    trans = torch.Tensor(trans_para_load['trans'])\n",
    "    trans = trans.unsqueeze(0).cuda()\n",
    "\n",
    "    # euler = torch.Tensor(exp_para_load['euler'])\n",
    "    # euler = euler.unsqueeze(0).cuda()\n",
    "\n",
    "    geometry = face_proj.forward_geo_sub(\n",
    "                id_para, exp_para, lands_info[-51:].long())\n",
    "    proj_geo = forward_transform(\n",
    "                geometry, euler_angle, trans, focal_length, cxy)\n",
    "\n",
    "    landmarks = proj_geo.squeeze().cpu().numpy()\n",
    "    landmarks_collection.append(landmarks)\n",
    "# canvas = np.zeros((450, 450, 3), dtype=np.uint8)\n",
    "# for i in range(landmarks.shape[0]):\n",
    "#     cv2.circle(canvas, (int(landmarks[i, 0]), int(landmarks[i, 1])), radius=2, color=(255, 0, 0), thickness=2)\n",
    "# plt.imshow(canvas)"
   ]
  },
  {
   "cell_type": "code",
   "execution_count": null,
   "id": "77f9a187",
   "metadata": {},
   "outputs": [],
   "source": [
    "w = 450\n",
    "h = 450\n",
    "id_para = torch.zeros(1, id_dim).cuda()\n",
    "exp_para = torch.zeros(1, exp_dim).cuda()\n",
    "focal_length = torch.ones(1, ).cuda().float() * 15\n",
    "trans = torch.zeros(1, 3).cuda().float()\n",
    "euler_angle = torch.zeros(1, 3).cuda().float()\n",
    "cxy = torch.tensor((w/2.0, h/2.0), dtype=torch.float).cuda()\n",
    "\n",
    "with open('../face_3dmm_params/obama/0000.json') as f:\n",
    "    trans_para_load = json.load(f)\n",
    "with open('../face_3dmm_params/Mark_Zuck/static_params.json') as f:\n",
    "    static_para_load = json.load(f)\n",
    "focal_length = torch.Tensor(static_para_load['focal'])\n",
    "focal_length = focal_length.cuda()\n",
    "\n",
    "# id_para = torch.Tensor(static_para_load['id'])\n",
    "# id_para = id_para.cuda()\n",
    "landmarks_collection = []\n",
    "for i in range(11000):\n",
    "    face_path = '../face_3dmm_params/obama/{:04d}.json'.format(i)\n",
    "    with open(face_path) as f:\n",
    "        exp_para_load = json.load(f)\n",
    "\n",
    "    exp_para = torch.Tensor(exp_para_load['exp'])\n",
    "    exp_para = exp_para.unsqueeze(0).cuda()\n",
    "\n",
    "    # trans = torch.Tensor(trans_para_load['trans'])\n",
    "    # trans = trans.unsqueeze(0).cuda()\n",
    "\n",
    "    # euler = torch.Tensor(exp_para_load['euler'])\n",
    "    # euler = euler.unsqueeze(0).cuda()\n",
    "\n",
    "    geometry = face_proj.forward_geo_sub(\n",
    "                id_para, exp_para, lands_info[-51:].long())\n",
    "    proj_geo = forward_transform(\n",
    "                geometry, euler_angle, trans, focal_length, cxy)\n",
    "\n",
    "    landmarks = proj_geo.squeeze().cpu().numpy()\n",
    "    landmarks_collection.append(landmarks)\n",
    "# canvas = np.zeros((450, 450, 3), dtype=np.uint8)\n",
    "# for i in range(landmarks.shape[0]):\n",
    "#     cv2.circle(canvas, (int(landmarks[i, 0]), int(landmarks[i, 1])), radius=2, color=(255, 0, 0), thickness=2)\n",
    "# plt.imshow(canvas)"
   ]
  },
  {
   "cell_type": "code",
   "execution_count": 79,
   "id": "39e95ef5",
   "metadata": {},
   "outputs": [],
   "source": [
    "landmarks_collection = np.array(landmarks_collection)"
   ]
  },
  {
   "cell_type": "code",
   "execution_count": 80,
   "id": "6ab8152a",
   "metadata": {},
   "outputs": [
    {
     "data": {
      "text/plain": [
       "(11000, 51, 3)"
      ]
     },
     "execution_count": 80,
     "metadata": {},
     "output_type": "execute_result"
    }
   ],
   "source": [
    "landmarks_collection.shape"
   ]
  },
  {
   "cell_type": "code",
   "execution_count": 76,
   "id": "357c8d3b",
   "metadata": {},
   "outputs": [
    {
     "data": {
      "text/plain": [
       "11000"
      ]
     },
     "execution_count": 76,
     "metadata": {},
     "output_type": "execute_result"
    }
   ],
   "source": [
    "len(landmarks_collection)"
   ]
  },
  {
   "cell_type": "code",
   "execution_count": 11,
   "id": "f6bb4c83",
   "metadata": {},
   "outputs": [
    {
     "data": {
      "text/plain": [
       "<matplotlib.image.AxesImage at 0x7f612af9ce90>"
      ]
     },
     "execution_count": 11,
     "metadata": {},
     "output_type": "execute_result"
    },
    {
     "data": {
      "image/png": "[encoded data removed]",
      "text/plain": [
       "<Figure size 432x288 with 1 Axes>"
      ]
     },
     "metadata": {
      "needs_background": "light"
     },
     "output_type": "display_data"
    }
   ],
   "source": [
    "plt.imshow(canvas)"
   ]
  },
  {
   "cell_type": "code",
   "execution_count": 27,
   "id": "fb7b05a8",
   "metadata": {},
   "outputs": [
    {
     "data": {
      "text/plain": [
       "tensor([[-5.4063e+01,  4.5986e+01,  9.0701e+00],\n",
       "        [-4.7290e+01,  5.0234e+01,  1.6517e+01],\n",
       "        [-3.8326e+01,  5.2562e+01,  2.2876e+01],\n",
       "        [-2.6574e+01,  5.1430e+01,  2.8598e+01],\n",
       "        [-1.4590e+01,  4.7781e+01,  3.0956e+01],\n",
       "        [ 1.4202e+01,  4.7971e+01,  3.0921e+01],\n",
       "        [ 2.6195e+01,  5.1724e+01,  2.8471e+01],\n",
       "        [ 3.8037e+01,  5.2929e+01,  2.2640e+01],\n",
       "        [ 4.7986e+01,  5.0319e+01,  1.5610e+01],\n",
       "        [ 5.4008e+01,  4.6289e+01,  8.9132e+00],\n",
       "        [ 7.7692e-02,  3.2728e+01,  3.2014e+01],\n",
       "        [ 8.7069e-02,  2.1785e+01,  3.9785e+01],\n",
       "        [ 1.9220e-01,  1.0270e+01,  4.8410e+01],\n",
       "        [ 2.2327e-01,  2.8703e-01,  5.4387e+01],\n",
       "        [-1.1410e+01, -1.4234e+01,  3.1614e+01],\n",
       "        [-6.1606e+00, -1.4300e+01,  3.6888e+01],\n",
       "        [ 4.6248e-02, -1.4563e+01,  3.8953e+01],\n",
       "        [ 6.1906e+00, -1.4306e+01,  3.6882e+01],\n",
       "        [ 1.1341e+01, -1.4149e+01,  3.1565e+01],\n",
       "        [-4.4414e+01,  2.9456e+01,  8.8531e+00],\n",
       "        [-3.5384e+01,  3.3585e+01,  1.7306e+01],\n",
       "        [-2.6860e+01,  3.4097e+01,  1.8190e+01],\n",
       "        [-1.6780e+01,  2.8698e+01,  1.5238e+01],\n",
       "        [-2.6480e+01,  2.5731e+01,  1.6872e+01],\n",
       "        [-3.5475e+01,  2.5577e+01,  1.5148e+01],\n",
       "        [ 1.6379e+01,  2.8157e+01,  1.4955e+01],\n",
       "        [ 2.6311e+01,  3.4181e+01,  1.7814e+01],\n",
       "        [ 3.4972e+01,  3.3563e+01,  1.7034e+01],\n",
       "        [ 4.4582e+01,  2.9589e+01,  9.1680e+00],\n",
       "        [ 3.5213e+01,  2.5635e+01,  1.5101e+01]], device='cuda:0')"
      ]
     },
     "execution_count": 27,
     "metadata": {},
     "output_type": "execute_result"
    }
   ],
   "source": [
    "geometry[0, :30]"
   ]
  }
 ],
 "metadata": {
  "kernelspec": {
   "display_name": "Python 3",
   "language": "python",
   "name": "python3"
  },
  "language_info": {
   "codemirror_mode": {
    "name": "ipython",
    "version": 3
   },
   "file_extension": ".py",
   "mimetype": "text/x-python",
   "name": "python",
   "nbconvert_exporter": "python",
   "pygments_lexer": "ipython3",
   "version": "3.7.10"
  }
 },
 "nbformat": 4,
 "nbformat_minor": 5
}
